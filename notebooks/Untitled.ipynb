{
 "cells": [
  {
   "cell_type": "code",
   "execution_count": 1,
   "id": "43334d8d-ace0-4026-9344-c5493d9c3716",
   "metadata": {
    "tags": []
   },
   "outputs": [
    {
     "name": "stdout",
     "output_type": "stream",
     "text": [
      "CUDA available: True\n",
      "Device count: 1\n",
      "Current device: 0\n",
      "Device name: NVIDIA GeForce RTX 5070 Ti\n"
     ]
    }
   ],
   "source": [
    "import torch\n",
    "import requests\n",
    "import json\n",
    "import logging\n",
    "\n",
    "print(\"CUDA available:\", torch.cuda.is_available())\n",
    "print(\"Device count:\", torch.cuda.device_count())\n",
    "print(\"Current device:\", torch.cuda.current_device())\n",
    "print(\"Device name:\", torch.cuda.get_device_name(torch.cuda.current_device()))\n"
   ]
  },
  {
   "cell_type": "code",
   "execution_count": 2,
   "id": "54fdc610-9538-4e9a-8686-497673289215",
   "metadata": {},
   "outputs": [],
   "source": [
    "# def prompt_llm(input):\n",
    "#     prompt = f\"\"\"\n",
    "#     You are a data extraction agent about motorcycle auction.\n",
    "    \n",
    "#     Extract the following fields from this motorcycle auction OCR result:\n",
    "#     Rules:\n",
    "#     1. address should be in the format of \"Kota, Provinsi\" or \"Kota, Provinsi, Kode Pos\".\n",
    "#     2. price should be below HARGA DASAR and should be a number.\n",
    "#     3. merk_model should be the brand and model of the motorcycle usually found under 'tahun' (takes 2 lines after 'TAHUN').\n",
    "#     4. tahun should be the year of the motorcycle, usually after merk_model.\n",
    "#     5. For CC and odometer:\n",
    "#     - Look for the word 'WARNA'. The first numeric value after 'WARNA' is the CC.\n",
    "#     - If no number is found after 'WARNA', set CC to null.\n",
    "#     - Any numeric value that appears after CC but **before** the section containing 'MESIN' or 'GRADE MESIN' is the odometer.\n",
    "#     - If no such number is found, set odometer to null.\n",
    "#     6. grade_mesin should be the engine condition grade (A to G) found near the engine condition section.\n",
    "#     7. desc_mesin should include all engine-related condition notes exactly as written, up until the 'EKSTERIOR' section, split by ','.\n",
    "#     8. grade_eksterior should be the exterior condition grade (A to G) found near the exterior section.\n",
    "#     9. desc_eksterior should include all exterior-related condition notes exactly as written, split by ','.\n",
    "#     10. Maintain proper JSON formatting.\n",
    "#     11. Don't include any other text, explanation, or notes in the output.\n",
    "    \n",
    "#     Generate the output like this:\n",
    "#     {{\n",
    "#     \"address\": \"\",\n",
    "#     \"price\": \"\",\n",
    "#     \"merk_model\": \"\",\n",
    "#     \"tahun\": \"\",\n",
    "#     \"CC\": \"\",\n",
    "#     \"odometer\": \"\",\n",
    "#     \"grade_mesin\": \"\",\n",
    "#     \"desc_mesin\": \"\",\n",
    "#     \"grade_eksterior\": \"\",\n",
    "#     \"desc_eksterior\": \"\"\n",
    "#     }}\n",
    "    \n",
    "#     OCR TEXT:\n",
    "#     \\\"\\\"\\\"{input}\\\"\\\"\\\"\n",
    "#     \"\"\"\n",
    "\n",
    "#     response = requests.post(\n",
    "#         \"http://ollama:11434/api/generate\",\n",
    "#         json={\n",
    "#             \"model\": \"llama3.2:3b\",  # or \"llama3:vision\" if that's what you're running\n",
    "#             \"prompt\": prompt,\n",
    "#             \"stream\": False\n",
    "#         }\n",
    "#     )\n",
    "\n",
    "#     try:\n",
    "#         raw_output = response.json()['response']\n",
    "#         print(\"-----------------------------------\")  # for debugging\n",
    "#         print(\"RAW OUTPUT FROM LLM:\\n\", raw_output)  # for debugging\n",
    "#         print(\"-----------------------------------\")  # for debugging\n",
    "#         parsed_output = json.loads(raw_output)  # <-- parse string to dict\n",
    "#     except json.JSONDecodeError:\n",
    "#         logging.error(\"Failed to parse LLM output as JSON\")\n",
    "#         return None\n",
    "    \n",
    "#     return parsed_output"
   ]
  },
  {
   "cell_type": "code",
   "execution_count": 8,
   "id": "cf01f88e-9bdf-4369-8e28-b931f35f2903",
   "metadata": {},
   "outputs": [],
   "source": [
    "def prompt_llm(input):\n",
    "  prompt = f\"\"\"\n",
    "  You are a data extraction agent about motorcycle auction.\n",
    "\n",
    "  Extract the following fields from this motorcycle auction OCR result:\n",
    "  Rules:\n",
    "  1. address should be in the format of \"Kota, Provinsi\" or \"Kota, Provinsi, Kode Pos\".\n",
    "  2. price should be below HARGA DASAR and should be a number.\n",
    "  3. merk_model should be the brand and model of the motorcycle usually found under 'tahun' (takes 2 lines after 'TAHUN').\n",
    "  4. tahun should be the year of the motorcycle, usually after merk_model.\n",
    "  5. For CC and odometer:\n",
    "    - Look for the word 'WARNA'. The first numeric value after 'WARNA' is the CC.\n",
    "    - If no number is found after 'WARNA', set CC to null.\n",
    "    - Any numeric value that appears after CC but **before** the section containing 'MESIN' or 'GRADE MESIN' is the odometer.\n",
    "    - If no such number is found, set odometer to null.\n",
    "  6. grade_mesin should be the engine condition grade (A to G) found near the engine condition section.\n",
    "  7. desc_mesin should include all engine-related condition notes exactly as written, up until the 'EKSTERIOR' section, split by ','.\n",
    "  8. grade_eksterior should be the exterior condition grade (A to G) found near the exterior section.\n",
    "  9. desc_eksterior should include all exterior-related condition notes exactly as written, split by ','.\n",
    "  10. Maintain proper JSON formatting.\n",
    "  11. Don't include any other text, explanation, or notes in the output.\n",
    "  12. fix the typos in the OCR text.\n",
    "\n",
    "  Generate the output like this:\n",
    "  {{\n",
    "    \"address\": \"\",\n",
    "    \"price\": \"\",\n",
    "    \"merk_model\": \"\",\n",
    "    \"tahun\": \"\",\n",
    "    \"CC\": \"\",\n",
    "    \"odometer\": \"\",\n",
    "    \"grade_mesin\": \"\",\n",
    "    \"desc_mesin\": \"\",\n",
    "    \"grade_eksterior\": \"\",\n",
    "    \"desc_eksterior\": \"\"\n",
    "  }}\n",
    "\n",
    "  OCR TEXT:\n",
    "  \\\"\\\"\\\"{input}\\\"\\\"\\\"\n",
    "  \"\"\"\n",
    "\n",
    "  response = requests.post(\n",
    "        \"http://ollama:11434/api/generate\",\n",
    "        json={\n",
    "            \"model\": \"qwen2.5:7b-instruct-q3_K_S\",  # or \"llama3:vision\" if that's what you're running\n",
    "            \"prompt\": prompt,\n",
    "            \"stream\": False\n",
    "        }\n",
    "    )\n",
    "  return response\n"
   ]
  },
  {
   "cell_type": "code",
   "execution_count": 9,
   "id": "048051fa-c296-47d2-a15c-f6c184341438",
   "metadata": {},
   "outputs": [
    {
     "name": "stdout",
     "output_type": "stream",
     "text": [
      "{\n",
      "    \"address\": \"JAKARTA RAYA MOTOR, JAKARTA\",\n",
      "    \"price\": \"15,000,000\",\n",
      "    \"merk_model\": \"HONDA SCOOPY 110\",\n",
      "    \"tahun\": \"2024\",\n",
      "    \"CC\": null,\n",
      "    \"odometer\": \"5.178\",\n",
      "    \"grade_mesin\": \"B\",\n",
      "    \"desc_mesin\": \"Kondisi Kick Starter Matic CVT Berisik,Kondisi Box Filter Saringan Udara Gores,Kondisi Bak Cvt Gores Kecil\",\n",
      "    \"grade_eksterior\": \"509\",\n",
      "    \"desc_eksterior\": \"Velg Depan Gores Kecil,B Deck Step Gores Sedang,Tameng Bawah Gores Sedang,Cover Rangka Tengah Gores Kecil\"\n",
      "}\n"
     ]
    }
   ],
   "source": [
    "structured_data = prompt_llm( ['LOT', 'Jakarta Raya - Eksklusif MAF MCF NONJAWA Motor', '1', 'JAKARTA', 'RAYA MOTOR', 'JLHusein Sastra Negara', 'Komplek Pergudangan Nusa Indah', 'Jurumudi.', 'HARGA DASAR', '15,000,000', '+1.1%', 'NOTE TAMBAHAN', 'MERK', 'MODEL', 'NO. POLISI', 'TAHUN', 'HONDA', 'SCOOPY 110', 'BP 6851 HQ', '2024', 'NOTA PAJAK (STNK)', 'NOMOR MESIN', 'NOMOR RANGKA', 'TDK', 'JMO4E2183737', 'MHIJMO4ZIRK184011', 'Cc', 'KUNCI', 'REMOTE', 'ACCU', 'ODOMETER', 'WARNA', '1 /ADA', 'ADA', '5.178', 'HITAM', 'MESIN', '1', 'Kondisi Kick Starter Matic CVT Berisik', 'B', 'Kondisi Box Filter Saringan Udara Gores', 'Kondisi Bak Cvt Gores Kecil', 'EKSTERIOR', '509', '509', 'Velg Depan Gores Kecil', 'B', 'Deck Step Gores Sedang', '7005000', 'Tameng Bawah Gores Sedang', 'Cover Rangka Tengah Gores Kecil', 'KETERANGAN', 'GORES (9): PECAH (P): KARAT ( <) RETAK(R; imitasi ( Iai', 'KF(:II', '{1 \"FienG 1!', 'K-Sak (3)', 'IlJAK A12a ! |,a)', 'CATATAN', 'JBA hanya melakukan inspeksi secara statis', '2 Wajib melakukan pengecekan unit dan dokumen sebelum mengikuti lelang', 'Halaman 1', 'Tanggal cetak: 09/05/2025 15.01 wib', 'Rp.'])\n",
    "print(structured_data.json()[\"response\"])"
   ]
  },
  {
   "cell_type": "code",
   "execution_count": 9,
   "id": "593c1666-b9c3-42a7-806a-8457338b01b6",
   "metadata": {},
   "outputs": [
    {
     "name": "stdout",
     "output_type": "stream",
     "text": [
      "Hello! How can I assist you today?\n"
     ]
    }
   ],
   "source": [
    "response = requests.post(\n",
    "    \"http://ollama:11434/api/generate\",\n",
    "    json={\n",
    "        \"model\": \"llama3.2:3b\",\n",
    "        \"prompt\": \"hi\",\n",
    "        \"stream\": False\n",
    "    }\n",
    ")\n",
    "print(response.json()[\"response\"])"
   ]
  },
  {
   "cell_type": "code",
   "execution_count": 3,
   "id": "f665f0a6-fe3c-4c11-adb6-6c702b022214",
   "metadata": {},
   "outputs": [
    {
     "name": "stdout",
     "output_type": "stream",
     "text": [
      "2.8.0.dev20250505+cu128\n"
     ]
    }
   ],
   "source": [
    "print(torch.__version__)"
   ]
  },
  {
   "cell_type": "code",
   "execution_count": 4,
   "id": "bdea774b-f885-4054-a4e7-0d1de4559fea",
   "metadata": {},
   "outputs": [
    {
     "name": "stdout",
     "output_type": "stream",
     "text": [
      "Tensor on GPU: tensor([[ 0.6151,  1.2455, -1.4923],\n",
      "        [ 0.6613, -0.6075,  0.7909],\n",
      "        [-0.9400,  0.2100,  0.5381]], device='cuda:0')\n"
     ]
    }
   ],
   "source": [
    "x = torch.randn(3, 3).cuda()\n",
    "print(\"Tensor on GPU:\", x)\n"
   ]
  },
  {
   "cell_type": "code",
   "execution_count": 8,
   "id": "53667a80-5735-4665-a0e0-d497b9f0d938",
   "metadata": {},
   "outputs": [
    {
     "name": "stdout",
     "output_type": "stream",
     "text": [
      "<Response [200]>\n"
     ]
    }
   ],
   "source": [
    "import requests\n",
    "from bs4 import BeautifulSoup\n",
    "\n",
    "\n",
    "\n",
    "# Send HTTP request to the URL\n",
    "headers = {\n",
    "    \"User-Agent\": \"Mozilla/5.0\"  # Helps avoid blocks\n",
    "}\n",
    "response = requests.get(url, headers=headers)\n",
    "print(response)\n",
    "\n",
    "# Check if the request succeeded\n",
    "if response.status_code == 200:\n",
    "    # Parse the page content\n",
    "    soup = BeautifulSoup(response.text, 'html.parser')\n",
    "\n"
   ]
  },
  {
   "cell_type": "code",
   "execution_count": 37,
   "id": "61c2e0fa-f4e6-4b0b-8627-10f763d3fdd0",
   "metadata": {},
   "outputs": [
    {
     "name": "stdout",
     "output_type": "stream",
     "text": [
      "\n",
      "Scraping page 1 - https://www.jba.co.id/id/lelang-motor/search?keyword=&vehicle_type=bike&page=1\n",
      "Matched image: https://img.jba.co.id/upload/jbabike/640401/PNK0005919-250424112852-1.jpg\n"
     ]
    }
   ],
   "source": [
    "import requests\n",
    "from bs4 import BeautifulSoup\n",
    "import re\n",
    "\n",
    "# Base URL without the page number\n",
    "base_url = 'https://www.jba.co.id'\n",
    "headers = {'User-Agent': 'Mozilla/5.0'}\n",
    "\n",
    "for page_num in range(1, 2):\n",
    "    url = base_url + '/id/lelang-motor/search?keyword=&vehicle_type=bike&page='+ str(page_num)\n",
    "    print(f\"\\nScraping page {page_num} - {url}\")\n",
    "    \n",
    "    response = requests.get(url, headers=headers)\n",
    "    if response.status_code != 200:\n",
    "        print(f\"Failed to fetch page {page_num}\")\n",
    "        continue\n",
    "\n",
    "    soup = BeautifulSoup(response.text, 'html.parser')\n",
    "\n",
    "    product_list = soup.find('div', class_='product-list')\n",
    "    if not product_list:\n",
    "        print(\"No product list found on this page.\")\n",
    "        continue\n",
    "\n",
    "    rows = product_list.find('div', class_='row')\n",
    "    if not rows:\n",
    "        print(\"No rows found in product list.\")\n",
    "        continue\n",
    "\n",
    "    for item in rows.find_all('div', class_='product-item'):\n",
    "        a_tag = item.find('a')\n",
    "        if a_tag and a_tag.get('href'):\n",
    "            # url_motor = base_url + a_tag.get('href')\n",
    "            url_motor = base_url+'/id/lelang-motor/search-detail/4117/640401'\n",
    "            response = requests.get(url_motor, headers=headers)\n",
    "            if response.status_code != 200:\n",
    "                print(f\"Failed to fetch {url_motor}\")\n",
    "                continue\n",
    "            soup = BeautifulSoup(response.text, 'html.parser')\n",
    "            for img_tag in soup.find_all('img'):\n",
    "                img_src = img_tag.get('src')\n",
    "                if img_src and pattern.search(img_src):\n",
    "                    print(\"Matched image:\", img_src)\n",
    "            break\n",
    "            # print(url_motor)\n"
   ]
  },
  {
   "cell_type": "code",
   "execution_count": 40,
   "id": "3c6ffa37-93c7-4663-9450-bae43a7e2b2c",
   "metadata": {},
   "outputs": [
    {
     "name": "stdout",
     "output_type": "stream",
     "text": [
      "LOT\n",
      "Jambi\n",
      "Motor 100\n",
      "08, May 2025\n",
      "301\n",
      "JAMBI - JI.Lingkar Selatan RT 27 Kelurahan Paal\n",
      "Merah, Kec.Jambi Selatan, Kota Jambi 36128\n",
      "HARGA DASAR\n",
      "8,000,000\n",
      "+1.1%\n",
      "NOTE TAMBAHAN\n",
      "WAJIB CEK UNIT\n",
      "1&\n",
      "DOKUMEN  SECARA LANGSUNG T1 WAJIB\n",
      "CEK KEABSAHAN\n",
      "UNIT I(CEK SAMSATICEK\n",
      "BLOKIRI) //\n",
      "MERK\n",
      "MODEL\n",
      "NO. POLISI\n",
      "TAHUN\n",
      "HONDA\n",
      "SCOOPY CBS ISS 110\n",
      "BH 3442 OZ\n",
      "2024\n",
      "NOTA PAJAK (STNK)\n",
      "NOMOR MESIN\n",
      "NOMOR RANGKA\n",
      "TDK\n",
      "JMO4E2011670\n",
      "MHIJMO424RKOO9056\n",
      "Cc\n",
      "KUNCI\n",
      "REMOTE\n",
      "ACCU\n",
      "ODOMETER\n",
      "WARNA\n",
      "110\n",
      "TIA /\n",
      "MATI\n",
      "HITAM\n",
      "MESIN\n",
      "\n",
      "Kondisi Mesin Mati\n",
      "F\n",
      "Kondisi Odometer Tidak Terlihat Imati\n",
      "Keberadaan Kunci Tidak Ada\n",
      "Kondisi Steering Lock Rusak\n",
      "Kondisi Box Filter Saringan Udara Gores\n",
      "Kondisi Bak Cvt Gores Sedang\n",
      "\n",
      "259\n",
      "259\n",
      "EKSTERIOR\n",
      "Jok Tombol Otomatis Rusak\n",
      "D\n",
      "Tameng Bawah Pecah Sedang\n",
      "Cover Rangka Tengah Gores Sedang\n",
      "Jok Sobek Besar\n",
      "Plat Nomor\n",
      "Belakang Tidak Ada\n",
      "Shockbreaker Belakang Karat Kecil\n",
      "Deck\n",
      "Gores Sedang\n",
      "Depan Gores Kecil\n",
      "Spakbor Depan Penyok Besar\n",
      "Tameng Bawah Gores Sedang\n",
      "Kondisi Rem\n",
      "Tangan Kanan Bengkok\n",
      "Kondisi\n",
      "Kaca Spion Tidak Ada\n",
      "Plat Nomor Depan Tidak Ada\n",
      "Cover Body Belakang Kiri Pecah Sedang\n",
      "KETERANGAN\n",
      "GORES (5): PECAH (P): KARAT ( <) RETAK(R; imitasi ( Ia1\n",
      "Cover Kepala Gores Sedang\n",
      "KF(:II\n",
      "(1) #Fian( !)\n",
      "K-Sak (3)\n",
      "IlJAK A12a ! |,a)\n",
      "CATATAN\n",
      "JBA hanya melakukan inspeksi secara statis\n",
      "2 Wajib melakukan\n",
      "engecekan unit dan dokumen sebelum mengikuti lelang\n",
      "Halaman 1\n",
      "Tanggal cetak: 29/04/2025 17:01 wib\n",
      "Rp.\n",
      "Step\n",
      "Velg\n"
     ]
    }
   ],
   "source": [
    "test_path = '/home/jovyan/JMB0007280-250429170107-1.jpg'\n",
    "\n",
    "import easyocr\n",
    "reader = easyocr.Reader(['id'])\n",
    "\n",
    "result = reader.readtext(test_path)\n",
    "\n",
    "for (bbox, text, prob) in result:\n",
    "    print(text)"
   ]
  },
  {
   "cell_type": "code",
   "execution_count": null,
   "id": "a200b6a4-be7b-4418-956b-8414936a5604",
   "metadata": {},
   "outputs": [],
   "source": []
  }
 ],
 "metadata": {
  "kernelspec": {
   "display_name": "Python 3 (ipykernel)",
   "language": "python",
   "name": "python3"
  },
  "language_info": {
   "codemirror_mode": {
    "name": "ipython",
    "version": 3
   },
   "file_extension": ".py",
   "mimetype": "text/x-python",
   "name": "python",
   "nbconvert_exporter": "python",
   "pygments_lexer": "ipython3",
   "version": "3.10.12"
  }
 },
 "nbformat": 4,
 "nbformat_minor": 5
}
